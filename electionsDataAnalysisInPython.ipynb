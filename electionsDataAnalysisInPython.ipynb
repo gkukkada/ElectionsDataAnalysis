{
 "cells": [
  {
   "cell_type": "markdown",
   "metadata": {},
   "source": [
    "# US Presidential Elections\n",
    "#### Exploring data related to the 2016 US Presidential Elections Election"
   ]
  },
  {
   "cell_type": "markdown",
   "metadata": {},
   "source": [
    "Gowtham K\n",
    "\n",
    "March, 29, 2016\n",
    "\n",
    "===================================\n",
    "# Background\n",
    "==================================="
   ]
  },
  {
   "cell_type": "markdown",
   "metadata": {},
   "source": [
    "The United States presidential election of 2016, scheduled for Tuesday, November 8, 2016, will be the 58th quadrennial U.S. presidential election. Voters will select presidential electors who in turn will elect a new president and vice president through the Electoral College. The term limit established in the Twenty-second Amendment to the United States Constitution prevents the incumbent President, Barack Obama, of the Democratic Party, from being elected to a third term.\n",
    "\n",
    "The series of presidential primary elections and caucuses is taking place between February 1 and June 14, 2016, staggered among the 50 states, the District of Columbia and U.S. territories. This nominating process is also an indirect election, where voters cast ballots for a slate of delegates to a political party's nominating convention, who then in turn elect their party's presidential nominee."
   ]
  },
  {
   "cell_type": "markdown",
   "metadata": {},
   "source": [
    "===================================\n",
    "# Dataset\n",
    "==================================="
   ]
  },
  {
   "cell_type": "markdown",
   "metadata": {},
   "source": [
    "The 2016 US Election dataset contains several main files and folders at the moment. You may download the entire archive via <a href=\"https://www.kaggle.com/benhamner/2016-us-election/downloads/2016_presidential_election_2016-03-25-21-27-54.zip\">Download zip</a>.\n",
    "\n",
    "#### primary_results.csv: \n",
    "    main primary results file\n",
    "    state  : state where the primary or caucus was held\n",
    "    state_abbreviation  : two letter state abbreviation\n",
    "    county  : county where the results come from\n",
    "    fips  : FIPS county code\n",
    "    party  : Democrat or Republican\n",
    "    candidate  : name of the candidate\n",
    "    votes  : number of votes the candidate received in the corresponding state and county (may be missing)\n",
    "    fraction_votes  : fraction of votes the president received in the corresponding state, county, and primary"
   ]
  },
  {
   "cell_type": "markdown",
   "metadata": {},
   "source": [
    "## Dataset and its Summary"
   ]
  },
  {
   "cell_type": "markdown",
   "metadata": {},
   "source": [
    "    Lets see what this dataset consists and observe what states it have."
   ]
  },
  {
   "cell_type": "code",
   "execution_count": 4,
   "metadata": {
    "collapsed": false
   },
   "outputs": [
    {
     "data": {
      "text/plain": [
       "array(['Alabama', 'Arizona', 'Arkansas', 'Colorado', 'Florida', 'Georgia',\n",
       "       'Idaho', 'Illinois', 'Iowa', 'Kentucky', 'Louisiana', 'Maine',\n",
       "       'Massachusetts', 'Michigan', 'Mississippi', 'Missouri', 'Nebraska',\n",
       "       'Nevada', 'North Carolina', 'Ohio', 'Oklahoma', 'South Carolina',\n",
       "       'Tennessee', 'Texas', 'Utah', 'Vermont', 'Virginia', 'New Hampshire'], dtype=object)"
      ]
     },
     "execution_count": 4,
     "metadata": {},
     "output_type": "execute_result"
    }
   ],
   "source": [
    "import pandas as pd\n",
    "dataset = pd.read_csv('./primary_results.csv')\n",
    "dataset['state'].unique()"
   ]
  },
  {
   "cell_type": "markdown",
   "metadata": {},
   "source": [
    "There are 28 states in this dataset. I am going to make analysis on these states. Lets see the list of candidates in both Republican party and Democratic party."
   ]
  },
  {
   "cell_type": "code",
   "execution_count": 5,
   "metadata": {
    "collapsed": false
   },
   "outputs": [
    {
     "data": {
      "text/plain": [
       "array(['Donald Trump', 'Ted Cruz', 'Marco Rubio', 'Ben Carson',\n",
       "       'John Kasich', 'Hillary Clinton', 'Bernie Sanders', 'Carly Fiorina',\n",
       "       'Rand Paul', 'Mike Huckabee', 'Rick Santorum', 'Jeb Bush',\n",
       "       'Chris Christie', 'Martin OMalley', ' Uncommitted', ' No Preference'], dtype=object)"
      ]
     },
     "execution_count": 5,
     "metadata": {},
     "output_type": "execute_result"
    }
   ],
   "source": [
    "import pandas as pd\n",
    "dataset = pd.read_csv('./primary_results.csv')\n",
    "dataset['candidate'].unique()"
   ]
  },
  {
   "cell_type": "markdown",
   "metadata": {},
   "source": [
    "    Now lets have glipmse on the details of the dataset and its datatypes. These will also be useful to perform different analysis of data."
   ]
  },
  {
   "cell_type": "code",
   "execution_count": 6,
   "metadata": {
    "collapsed": false
   },
   "outputs": [
    {
     "data": {
      "text/plain": [
       "state                  object\n",
       "state_abbreviation     object\n",
       "county                 object\n",
       "fips                    int64\n",
       "party                  object\n",
       "candidate              object\n",
       "votes                   int64\n",
       "fraction_votes        float64\n",
       "dtype: object"
      ]
     },
     "execution_count": 6,
     "metadata": {},
     "output_type": "execute_result"
    }
   ],
   "source": [
    "import pandas as pd\n",
    "dataset = pd.read_csv('./primary_results.csv')\n",
    "dataset.dtypes"
   ]
  },
  {
   "cell_type": "markdown",
   "metadata": {},
   "source": [
    "From the above output. We can observe that fips and votes contain only integers and these might be useful to plot the graphs against each candidate in each state. In this paper i am not going to use 'state' variable and fips variable to perform the data analysis. Lets go further and do the analysis on the useful variables."
   ]
  },
  {
   "cell_type": "code",
   "execution_count": 15,
   "metadata": {
    "collapsed": false
   },
   "outputs": [
    {
     "name": "stdout",
     "output_type": "stream",
     "text": [
      "                fips  fraction_votes          votes\n",
      "1st Qu  17141.000000        0.078000     126.750000\n",
      "2nd Qu  28099.000000        0.251000     475.500000\n",
      "Max     51810.000000        1.000000  163886.000000\n",
      "Mean    29185.997729        0.279390    2289.112776\n",
      "Median  28099.000000        0.251000     475.500000\n",
      "Min      1001.000000        0.000000       0.000000\n",
      "StdDev  15109.919701        0.215156    7257.457043\n"
     ]
    }
   ],
   "source": [
    "import pandas as pd\n",
    "import numpy as np\n",
    "\n",
    "class Elections():\n",
    "\t\"\"\"docstring for Elections\"\"\"\n",
    "\tdef __init__(self, data):\n",
    "\t\tself.data = data\n",
    "\n",
    "\tdef summary(self):\n",
    "\t\t\"\"\" It Calculates the mean, median, \n",
    "        1st Qu, 2nd Qu, min value, max value from the given variables. FIXME's here \"\"\"\n",
    "\t\tcount = 0\n",
    "\t\tdetail = dict()\n",
    "\t\tfor i in self.data:\n",
    "\t\t\tdetail[i]={}\n",
    "\t\t\tif i=='votes' or i=='fips' or i =='fraction_votes':\n",
    "\t\t\t\tdetail[i][\"Min\"]=np.min(self.data[i], axis=0)\n",
    "\t\t\t\tdetail[i][\"Max\"]=np.max(self.data[i], axis=0)\n",
    "\t\t\t\tdetail[i][\"1st Qu\"]=np.percentile(self.data[i], 25)\n",
    "\t\t\t\tdetail[i][\"Median\"]= np.median(self.data[i], axis=0)\n",
    "\t\t\t\tdetail[i][\"Mean\"]=np.mean(self.data[i], axis=0)\n",
    "\t\t\t\tdetail[i][\"2nd Qu\"]=np.percentile(self.data[i], 50)\n",
    "\t\t\t\tdetail[i][\"StdDev\"]=np.std(self.data[i], axis=0)\n",
    "\t\t\tcount += 1\n",
    "\t\treturn detail\n",
    "\n",
    "if __name__ == '__main__':\n",
    "\n",
    "\tdataset = pd.read_csv('./primary_results.csv')\n",
    "\tdf = pd.DataFrame(dataset)\n",
    "\tx = Elections(df)\n",
    "\tsumm_df = pd.DataFrame(x.summary())\n",
    "\tdel summ_df['state']\n",
    "\tdel summ_df['candidate']\n",
    "\tdel summ_df['county']\n",
    "\tdel summ_df['state_abbreviation']\n",
    "\tdel summ_df['party']\n",
    "\tprint(summ_df)"
   ]
  },
  {
   "cell_type": "markdown",
   "metadata": {},
   "source": [
    "From the above code we can get the summary of given attributes. With the help of numpy functions i have calculated the mean, median, standard deviation, minimum value, maximum value, 1st quartile(25%), 2nd quartile(50%). These values can be used to plot the graphs between two different variables."
   ]
  },
  {
   "cell_type": "markdown",
   "metadata": {},
   "source": [
    "## Relations"
   ]
  },
  {
   "cell_type": "markdown",
   "metadata": {},
   "source": [
    "Lets look into the various relations between these variables. First let us consider the variables state_abbrevaition, fraction_votes, party and their relations. Below is the plotted graph between states and votes on the x-axis, y-axis respectively. I've used weka Explorer to visualize the data on the 2D plane.\n",
    "<img src=\"./plots/stateab_frac.png\"/>"
   ]
  },
  {
   "cell_type": "markdown",
   "metadata": {},
   "source": [
    "Now let us consider the variables state, votes, party and their relations. Below is the plotted graph between states and votes on the x-axis, y-axis respectively. Lets see the graph and you will get more information from this graph\n",
    "<img src=\"./plots/stateab_votes.png\"/>"
   ]
  },
  {
   "cell_type": "markdown",
   "metadata": {},
   "source": [
    "From this observation we can see that democrats(in red) got high majority of votes than the republicans in most of the given states. Look into the fraction_vote graph also. The color red represents democrats and blue indicates blue."
   ]
  },
  {
   "cell_type": "markdown",
   "metadata": {},
   "source": [
    "Now Lets look into another observation. I have plotted the graph between party and votes variables and displaying candidates data onto the graph\n",
    "<img src=\"./plots/party_votes_candidates.png\" />"
   ]
  },
  {
   "cell_type": "markdown",
   "metadata": {},
   "source": [
    "From this graph you can see that Hillary Clinton(Pink) got high votes in the democrat party and Ted Cruz(Red) got high votes among the republicans. And comaparing democrats with republicans, Hillary Clinton from democratic party got high majority of votes than the Ted Cruz from republican party."
   ]
  },
  {
   "cell_type": "markdown",
   "metadata": {},
   "source": [
    "You can observe here clearly that hillary clinton from democratic party got high votes than the republicans.\n",
    "<img src=\"./plots/cand_votes_party.png\" />"
   ]
  },
  {
   "cell_type": "markdown",
   "metadata": {},
   "source": [
    "We can also clearly observe that there are more number of republican candidates than the democratic candidates. Only 3 people are from democratic party and 11 from republican party. "
   ]
  },
  {
   "cell_type": "markdown",
   "metadata": {},
   "source": [
    "In this paper i am going to select some major states and see the candidates response in particular counties. I am selecting Arizona, Texas, Florida, Ohio, Michigan."
   ]
  },
  {
   "cell_type": "markdown",
   "metadata": {},
   "source": [
    "#### Arizona (Republicans)\n",
    "<img src=\"./plots/azrep.png\" />"
   ]
  },
  {
   "cell_type": "markdown",
   "metadata": {
    "collapsed": true
   },
   "source": [
    "In the above graph we can observe that Maricopa county got majority votes than other counties. And there are only 3 republican candiates stood in this state. Donald Trump got majority of votes in Maricopa County."
   ]
  },
  {
   "cell_type": "markdown",
   "metadata": {},
   "source": [
    "#### Arizona (Democratic)\n",
    "<img src=\"./plots/azdemo.png\" />\n",
    "From this observation we can clearly see that Hillary clinton got majority of votes in Maricopa county than other candidates but less than the Donald Trump(Republican)."
   ]
  },
  {
   "cell_type": "markdown",
   "metadata": {},
   "source": [
    "#### Texas (Republicans)\n",
    "<img src=\"./plots/txrep.png\" />\n",
    "Here you can see that Harris county have high bar than the others. Ted Cruz and Donal trump got more votes in the Harris County. Among Republicans Ted got majority of the votes than the rest."
   ]
  },
  {
   "cell_type": "markdown",
   "metadata": {},
   "source": [
    "#### Texas (Democrat)\n",
    "<img src=\"./plots/txdemo.png\" />\n",
    "Here you can see that Harris county have high bar than the others. Hillary Clinton got more votes in the Harris County. Among Democrats Clinton got majority of the votes than the rest. Even comparing with above texas republican bar graph clinton got majority of votes than Ted "
   ]
  },
  {
   "cell_type": "markdown",
   "metadata": {
    "collapsed": true
   },
   "source": [
    "#### Michigan (Republicans)\n",
    "<img src=\"./plots/mirepo.png\" />\n",
    "Here you can see that Oakland county have high bar than the others. Donald Trump got more votes in the Oakland County. Among Republicans Donald Trump got majority of the votes than the rest. Trump got many votes than the Ted in this county"
   ]
  },
  {
   "cell_type": "markdown",
   "metadata": {},
   "source": [
    "#### Michigan (Democrat)\n",
    "<img src=\"./plots/midemo.png\" />\n",
    "Here you can see that Wayne county have high bar than the others. Hillary Clinton got more votes in the Wayne County. Among Democrats Clinton got majority of the votes than the rest. Even comparing with above texas republican bar graph clinton got majority of votes than Donald in this county. But less in Owkland county. Democrats got less votes in Oakland county. "
   ]
  },
  {
   "cell_type": "markdown",
   "metadata": {},
   "source": [
    "#### Florida (Republicans)\n",
    "<img src=\"./plots/flrepo.png\" />"
   ]
  },
  {
   "cell_type": "markdown",
   "metadata": {},
   "source": [
    "From the above observation we can see that Miami-Dade County got high bar than the others. Marco Rubio got more votes in the  Miami-Dade County. Among Republicans Marco Rubio got majority of the votes than the rest. But if you look into overall Trump votes in florida , he got more votes than the others in this state."
   ]
  },
  {
   "cell_type": "markdown",
   "metadata": {},
   "source": [
    "#### Florida (Democrat)\n",
    "<img src=\"./plots/fldemo.png\" />"
   ]
  },
  {
   "cell_type": "markdown",
   "metadata": {},
   "source": [
    "Here you can see that Broward County and Miami-Dade County have high bars than the others. Only Hillary Clinton got more votes in both the Counties. Among Democrats Clinton got majority of the votes than the rest. Even comparing with above texas republican bar graph clinton got majority of votes than Marco in this  Miami-Dade County. Overall Clinton got more votes than all the parties."
   ]
  },
  {
   "cell_type": "markdown",
   "metadata": {},
   "source": [
    "#### Ohio (Republicans)\n",
    "<img src=\"./plots/ohrepo.png\" />"
   ]
  },
  {
   "cell_type": "markdown",
   "metadata": {},
   "source": [
    "From the above observation we can see that Cuyahoga County and Franklin County got high bar than the others. John Kasich got more votes in this two counties. Among Republicans John Kasich got majority of the votes than the rest. Even if you look into overall John Kasich votes in Ohio , he got more votes than the others in this state among republicans."
   ]
  },
  {
   "cell_type": "markdown",
   "metadata": {},
   "source": [
    "#### Ohio (Democrat)\n",
    "<img src=\"./plots/ohdemo.png\" />"
   ]
  },
  {
   "cell_type": "markdown",
   "metadata": {},
   "source": [
    "From this observation you can see that Cuyahoga County and Franklin County have got high bars than the others. Only Hillary Clinton got more votes in both the Counties. Among Democrats Clinton got majority of the votes than the rest. Even comparing with above ohio republican bar graph clinton got majority of votes than  John Kasich in both of these counties. Again Overall Clinton got more votes than all the parties."
   ]
  },
  {
   "cell_type": "markdown",
   "metadata": {},
   "source": [
    "## Final Plots and Summary"
   ]
  },
  {
   "cell_type": "markdown",
   "metadata": {},
   "source": [
    "#### Plot One\n",
    "<img src=\"./plots/plot_1.png\" />\n"
   ]
  },
  {
   "cell_type": "markdown",
   "metadata": {},
   "source": [
    "#### Description\n",
    "From the above plot you can observe that democrats got high majority than the republicans lets see the highest points on the graph.\n",
    "###### Instance of Democrat highest point on the above graph\n",
    "          Instance:  6313\n",
    "             state: Michigan\n",
    "    state_abbreviation: MI\n",
    "            county: Wayne\n",
    "              fips: 26163.0\n",
    "             party: Democrat\n",
    "         candidate: Hillary Clinton\n",
    "             votes: 163886.0\n",
    "    fraction_votes: 0.6\n",
    "###### Instance of Republican highest point on the above graph\n",
    "          Instance:  11127\n",
    "             state: Texas\n",
    "    state_abbreviation: TX\n",
    "            county: Harris\n",
    "              fips: 48201.0\n",
    "             party: Republican\n",
    "         candidate: Ted Cruz\n",
    "             votes: 147721.0\n",
    "    fraction_votes: 0.453\n",
    "From the above info we can observe that the Hillary Clinton(Democrat) got 163886 votes in the Wayne county of Michigan State. This is the highest recorded instance among democrats in this dataset. On the other hand Ted Cruz from Republican party got 147721 votes in Harris County of Texas State. This is the highest recorded instance among the republicans in this particular dataset. But less than the votes of Hillary clinton in Wayne County."
   ]
  },
  {
   "cell_type": "markdown",
   "metadata": {},
   "source": [
    "## Reflection\n",
    "This 2016 US Presidential election project consists of different variables which are related to the two parties they are Democrat and Republicans. By considering these attributes this project was designed to generate desired analysis. First the dataset is normalized and performed data analysis using python scripting. There are many things we can observed in this paper. All the attributes and its details are already defined initially in this document. The main task of this project is to make possible analysis like democratic votes in each county of 28 states, republican votes against democratic votes and candidates individual votes in different states. This project observed that there is a tough competition between Hillary Clinton, Trump and Ted Cruz. In most of the states Clinton got majority of the votes than the Republicans. In some counties there is a tough competiton between Ted and Trump with republicans. From this data analysis, Hillary Clinton got high chances of getting high majority of votes in the coming US Presidential Elections."
   ]
  },
  {
   "cell_type": "markdown",
   "metadata": {},
   "source": [
    "## References"
   ]
  },
  {
   "cell_type": "markdown",
   "metadata": {},
   "source": [
    "[1] Seaborn: statistical data visualization - https://stanford.edu/~mwaskom/software/seaborn/index.html"
   ]
  }
 ],
 "metadata": {
  "kernelspec": {
   "display_name": "Python 3",
   "language": "python",
   "name": "python3"
  },
  "language_info": {
   "codemirror_mode": {
    "name": "ipython",
    "version": 3
   },
   "file_extension": ".py",
   "mimetype": "text/x-python",
   "name": "python",
   "nbconvert_exporter": "python",
   "pygments_lexer": "ipython3",
   "version": "3.5.1"
  }
 },
 "nbformat": 4,
 "nbformat_minor": 0
}
